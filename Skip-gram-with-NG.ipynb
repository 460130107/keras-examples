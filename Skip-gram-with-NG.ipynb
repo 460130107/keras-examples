{
 "cells": [
  {
   "cell_type": "code",
   "execution_count": 1,
   "metadata": {
    "collapsed": false
   },
   "outputs": [
    {
     "name": "stderr",
     "output_type": "stream",
     "text": [
      "Using Theano backend.\n"
     ]
    }
   ],
   "source": [
    "import numpy as np\n",
    "np.random.seed(13)\n",
    "from keras.models import Sequential\n",
    "from keras.layers import Embedding, Merge, Reshape, Activation\n",
    "from keras.utils import np_utils\n",
    "from keras.utils.data_utils import get_file\n",
    "from keras.utils.visualize_util import model_to_dot, plot\n",
    "from keras.preprocessing.text import Tokenizer, base_filter\n",
    "from keras.preprocessing.sequence import skipgrams\n",
    "\n",
    "from gensim.models.doc2vec import Word2Vec\n",
    "from IPython.display import SVG, display"
   ]
  },
  {
   "cell_type": "code",
   "execution_count": 2,
   "metadata": {
    "collapsed": false
   },
   "outputs": [
    {
     "data": {
      "text/plain": [
       "3032"
      ]
     },
     "execution_count": 2,
     "metadata": {},
     "output_type": "execute_result"
    }
   ],
   "source": [
    "path = get_file('alice.txt', origin=\"http://www.gutenberg.org/cache/epub/11/pg11.txt\")\n",
    "corpus = open(path).readlines()\n",
    "\n",
    "corpus = [sentence for sentence in corpus if sentence.count(\" \") >= 2]\n",
    "tokenizer = Tokenizer(filters=base_filter()+\"'\")\n",
    "tokenizer.fit_on_texts(corpus)\n",
    "V = len(tokenizer.word_index) + 1\n",
    "V"
   ]
  },
  {
   "cell_type": "code",
   "execution_count": 3,
   "metadata": {
    "collapsed": false
   },
   "outputs": [
    {
     "data": {
      "image/svg+xml": [
       "<svg height=\"308pt\" viewBox=\"0.00 0.00 639.00 308.00\" width=\"639pt\" xmlns=\"http://www.w3.org/2000/svg\" xmlns:xlink=\"http://www.w3.org/1999/xlink\">\n",
       "<g class=\"graph\" id=\"graph0\" transform=\"scale(1 1) rotate(0) translate(4 304)\">\n",
       "<title>G</title>\n",
       "<polygon fill=\"white\" points=\"-4,4 -4,-304 635,-304 635,4 -4,4\" stroke=\"none\"/>\n",
       "<!-- 139916732495184 -->\n",
       "<g class=\"node\" id=\"node1\"><title>139916732495184</title>\n",
       "<polygon fill=\"none\" points=\"-0.5,-253 -0.5,-299 306.5,-299 306.5,-253 -0.5,-253\" stroke=\"black\"/>\n",
       "<text font-family=\"Times,serif\" font-size=\"14.00\" text-anchor=\"middle\" x=\"77\" y=\"-272.3\">sequential_1 (Sequential)</text>\n",
       "<polyline fill=\"none\" points=\"154.5,-253 154.5,-299 \" stroke=\"black\"/>\n",
       "<text font-family=\"Times,serif\" font-size=\"14.00\" text-anchor=\"middle\" x=\"182\" y=\"-283.8\">input:</text>\n",
       "<polyline fill=\"none\" points=\"154.5,-276 209.5,-276 \" stroke=\"black\"/>\n",
       "<text font-family=\"Times,serif\" font-size=\"14.00\" text-anchor=\"middle\" x=\"182\" y=\"-260.8\">output:</text>\n",
       "<polyline fill=\"none\" points=\"209.5,-253 209.5,-299 \" stroke=\"black\"/>\n",
       "<text font-family=\"Times,serif\" font-size=\"14.00\" text-anchor=\"middle\" x=\"258\" y=\"-283.8\">(None, 1)</text>\n",
       "<polyline fill=\"none\" points=\"209.5,-276 306.5,-276 \" stroke=\"black\"/>\n",
       "<text font-family=\"Times,serif\" font-size=\"14.00\" text-anchor=\"middle\" x=\"258\" y=\"-260.8\">(None, 1, 128)</text>\n",
       "</g>\n",
       "<!-- 139916744602904 -->\n",
       "<g class=\"node\" id=\"node3\"><title>139916744602904</title>\n",
       "<polygon fill=\"none\" points=\"134,-169 134,-215 496,-215 496,-169 134,-169\" stroke=\"black\"/>\n",
       "<text font-family=\"Times,serif\" font-size=\"14.00\" text-anchor=\"middle\" x=\"190.5\" y=\"-188.3\">merge_1 (Merge)</text>\n",
       "<polyline fill=\"none\" points=\"247,-169 247,-215 \" stroke=\"black\"/>\n",
       "<text font-family=\"Times,serif\" font-size=\"14.00\" text-anchor=\"middle\" x=\"274.5\" y=\"-199.8\">input:</text>\n",
       "<polyline fill=\"none\" points=\"247,-192 302,-192 \" stroke=\"black\"/>\n",
       "<text font-family=\"Times,serif\" font-size=\"14.00\" text-anchor=\"middle\" x=\"274.5\" y=\"-176.8\">output:</text>\n",
       "<polyline fill=\"none\" points=\"302,-169 302,-215 \" stroke=\"black\"/>\n",
       "<text font-family=\"Times,serif\" font-size=\"14.00\" text-anchor=\"middle\" x=\"399\" y=\"-199.8\">[(None, 1, 128), (None, 1, 128)]</text>\n",
       "<polyline fill=\"none\" points=\"302,-192 496,-192 \" stroke=\"black\"/>\n",
       "<text font-family=\"Times,serif\" font-size=\"14.00\" text-anchor=\"middle\" x=\"399\" y=\"-176.8\">(None, 1, 1)</text>\n",
       "</g>\n",
       "<!-- 139916732495184&#45;&gt;139916744602904 -->\n",
       "<g class=\"edge\" id=\"edge1\"><title>139916732495184-&gt;139916744602904</title>\n",
       "<path d=\"M196.84,-252.81C217.001,-242.604 241.084,-230.414 262.233,-219.709\" fill=\"none\" stroke=\"black\"/>\n",
       "<polygon fill=\"black\" points=\"264.065,-222.705 271.406,-215.066 260.904,-216.459 264.065,-222.705\" stroke=\"black\"/>\n",
       "</g>\n",
       "<!-- 139916732495296 -->\n",
       "<g class=\"node\" id=\"node2\"><title>139916732495296</title>\n",
       "<polygon fill=\"none\" points=\"324.5,-253 324.5,-299 631.5,-299 631.5,-253 324.5,-253\" stroke=\"black\"/>\n",
       "<text font-family=\"Times,serif\" font-size=\"14.00\" text-anchor=\"middle\" x=\"402\" y=\"-272.3\">sequential_2 (Sequential)</text>\n",
       "<polyline fill=\"none\" points=\"479.5,-253 479.5,-299 \" stroke=\"black\"/>\n",
       "<text font-family=\"Times,serif\" font-size=\"14.00\" text-anchor=\"middle\" x=\"507\" y=\"-283.8\">input:</text>\n",
       "<polyline fill=\"none\" points=\"479.5,-276 534.5,-276 \" stroke=\"black\"/>\n",
       "<text font-family=\"Times,serif\" font-size=\"14.00\" text-anchor=\"middle\" x=\"507\" y=\"-260.8\">output:</text>\n",
       "<polyline fill=\"none\" points=\"534.5,-253 534.5,-299 \" stroke=\"black\"/>\n",
       "<text font-family=\"Times,serif\" font-size=\"14.00\" text-anchor=\"middle\" x=\"583\" y=\"-283.8\">(None, 1)</text>\n",
       "<polyline fill=\"none\" points=\"534.5,-276 631.5,-276 \" stroke=\"black\"/>\n",
       "<text font-family=\"Times,serif\" font-size=\"14.00\" text-anchor=\"middle\" x=\"583\" y=\"-260.8\">(None, 1, 128)</text>\n",
       "</g>\n",
       "<!-- 139916732495296&#45;&gt;139916744602904 -->\n",
       "<g class=\"edge\" id=\"edge2\"><title>139916732495296-&gt;139916744602904</title>\n",
       "<path d=\"M433.89,-252.81C413.513,-242.559 389.155,-230.305 367.807,-219.565\" fill=\"none\" stroke=\"black\"/>\n",
       "<polygon fill=\"black\" points=\"369.369,-216.433 358.863,-215.066 366.223,-222.687 369.369,-216.433\" stroke=\"black\"/>\n",
       "</g>\n",
       "<!-- 139916731715768 -->\n",
       "<g class=\"node\" id=\"node4\"><title>139916731715768</title>\n",
       "<polygon fill=\"none\" points=\"181,-85 181,-131 449,-131 449,-85 181,-85\" stroke=\"black\"/>\n",
       "<text font-family=\"Times,serif\" font-size=\"14.00\" text-anchor=\"middle\" x=\"246\" y=\"-104.3\">reshape_1 (Reshape)</text>\n",
       "<polyline fill=\"none\" points=\"311,-85 311,-131 \" stroke=\"black\"/>\n",
       "<text font-family=\"Times,serif\" font-size=\"14.00\" text-anchor=\"middle\" x=\"338.5\" y=\"-115.8\">input:</text>\n",
       "<polyline fill=\"none\" points=\"311,-108 366,-108 \" stroke=\"black\"/>\n",
       "<text font-family=\"Times,serif\" font-size=\"14.00\" text-anchor=\"middle\" x=\"338.5\" y=\"-92.8\">output:</text>\n",
       "<polyline fill=\"none\" points=\"366,-85 366,-131 \" stroke=\"black\"/>\n",
       "<text font-family=\"Times,serif\" font-size=\"14.00\" text-anchor=\"middle\" x=\"407.5\" y=\"-115.8\">(None, 1, 1)</text>\n",
       "<polyline fill=\"none\" points=\"366,-108 449,-108 \" stroke=\"black\"/>\n",
       "<text font-family=\"Times,serif\" font-size=\"14.00\" text-anchor=\"middle\" x=\"407.5\" y=\"-92.8\">(None, 1)</text>\n",
       "</g>\n",
       "<!-- 139916744602904&#45;&gt;139916731715768 -->\n",
       "<g class=\"edge\" id=\"edge3\"><title>139916744602904-&gt;139916731715768</title>\n",
       "<path d=\"M315,-168.593C315,-160.118 315,-150.297 315,-141.104\" fill=\"none\" stroke=\"black\"/>\n",
       "<polygon fill=\"black\" points=\"318.5,-141.096 315,-131.096 311.5,-141.096 318.5,-141.096\" stroke=\"black\"/>\n",
       "</g>\n",
       "<!-- 139916730599688 -->\n",
       "<g class=\"node\" id=\"node5\"><title>139916730599688</title>\n",
       "<polygon fill=\"none\" points=\"176.5,-1 176.5,-47 453.5,-47 453.5,-1 176.5,-1\" stroke=\"black\"/>\n",
       "<text font-family=\"Times,serif\" font-size=\"14.00\" text-anchor=\"middle\" x=\"253\" y=\"-20.3\">activation_1 (Activation)</text>\n",
       "<polyline fill=\"none\" points=\"329.5,-1 329.5,-47 \" stroke=\"black\"/>\n",
       "<text font-family=\"Times,serif\" font-size=\"14.00\" text-anchor=\"middle\" x=\"357\" y=\"-31.8\">input:</text>\n",
       "<polyline fill=\"none\" points=\"329.5,-24 384.5,-24 \" stroke=\"black\"/>\n",
       "<text font-family=\"Times,serif\" font-size=\"14.00\" text-anchor=\"middle\" x=\"357\" y=\"-8.8\">output:</text>\n",
       "<polyline fill=\"none\" points=\"384.5,-1 384.5,-47 \" stroke=\"black\"/>\n",
       "<text font-family=\"Times,serif\" font-size=\"14.00\" text-anchor=\"middle\" x=\"419\" y=\"-31.8\">(None, 1)</text>\n",
       "<polyline fill=\"none\" points=\"384.5,-24 453.5,-24 \" stroke=\"black\"/>\n",
       "<text font-family=\"Times,serif\" font-size=\"14.00\" text-anchor=\"middle\" x=\"419\" y=\"-8.8\">(None, 1)</text>\n",
       "</g>\n",
       "<!-- 139916731715768&#45;&gt;139916730599688 -->\n",
       "<g class=\"edge\" id=\"edge4\"><title>139916731715768-&gt;139916730599688</title>\n",
       "<path d=\"M315,-84.5931C315,-76.1177 315,-66.2974 315,-57.104\" fill=\"none\" stroke=\"black\"/>\n",
       "<polygon fill=\"black\" points=\"318.5,-57.0958 315,-47.0959 311.5,-57.0959 318.5,-57.0958\" stroke=\"black\"/>\n",
       "</g>\n",
       "</g>\n",
       "</svg>"
      ],
      "text/plain": [
       "<IPython.core.display.SVG object>"
      ]
     },
     "metadata": {},
     "output_type": "display_data"
    }
   ],
   "source": [
    "dim_embedddings = 128\n",
    "\n",
    "# inputs\n",
    "inputs = Sequential()\n",
    "inputs.add(Embedding(V, dim_embedddings, input_length=1))\n",
    "\n",
    "# context\n",
    "context = Sequential()\n",
    "context.add(Embedding(V, dim_embedddings, input_length=1))\n",
    "\n",
    "model = Sequential()\n",
    "model.add(Merge([inputs, context], mode='dot', dot_axes=2))\n",
    "model.add(Reshape((1,), input_shape=(1,1)))\n",
    "model.add(Activation('sigmoid'))\n",
    "model.compile(loss=\"binary_crossentropy\", optimizer=\"rmsprop\")\n",
    "display(SVG(model_to_dot(model, show_shapes=True).create(prog='dot', format='svg')))"
   ]
  },
  {
   "cell_type": "code",
   "execution_count": 4,
   "metadata": {
    "collapsed": false
   },
   "outputs": [
    {
     "name": "stdout",
     "output_type": "stream",
     "text": [
      "1212.13172601\n",
      "864.496609695\n",
      "798.478040159\n",
      "769.374685228\n",
      "751.196461126\n",
      "741.106172118\n",
      "735.174817093\n",
      "728.562292472\n",
      "722.202479899\n",
      "717.078176275\n",
      "713.063365672\n",
      "708.66620351\n",
      "704.449001189\n",
      "702.908395443\n",
      "698.81142877\n",
      "695.062582567\n",
      "690.317170605\n",
      "687.782671351\n",
      "683.620384663\n",
      "680.519070435\n",
      "676.811206356\n",
      "673.595114462\n",
      "670.116418805\n",
      "665.013225578\n",
      "662.628947984\n",
      "658.544185497\n",
      "653.804591347\n",
      "651.289514737\n",
      "648.118846636\n",
      "645.559887867\n"
     ]
    }
   ],
   "source": [
    "for _ in range(30):\n",
    "    loss = 0.\n",
    "    for doc in tokenizer.texts_to_sequences(corpus):        \n",
    "        data, labels = skipgrams(sequence=doc, vocabulary_size=V, window_size=5, negative_samples=5.)\n",
    "        X = [np.array(x) for x in zip(*data)]\n",
    "        Y = np.array(labels, dtype=np.int32)\n",
    "        if X:\n",
    "            loss += model.train_on_batch(X, Y)\n",
    "    print(loss)\n"
   ]
  },
  {
   "cell_type": "code",
   "execution_count": 5,
   "metadata": {
    "collapsed": false
   },
   "outputs": [
    {
     "data": {
      "text/plain": [
       "1"
      ]
     },
     "execution_count": 5,
     "metadata": {},
     "output_type": "execute_result"
    }
   ],
   "source": [
    "f = open('vectors.txt' ,'w')\n",
    "f.write(\" \".join([str(V-1),str(dim_embedddings)]))\n",
    "f.write(\"\\n\")"
   ]
  },
  {
   "cell_type": "code",
   "execution_count": 6,
   "metadata": {
    "collapsed": false
   },
   "outputs": [],
   "source": [
    "vectors = model.get_weights()[0]\n",
    "for word, i in tokenizer.word_index.items():\n",
    "    f.write(word)\n",
    "    f.write(\" \")\n",
    "    f.write(\" \".join(map(str, list(vectors[i,:]))))\n",
    "    f.write(\"\\n\")\n",
    "f.close()"
   ]
  },
  {
   "cell_type": "code",
   "execution_count": 7,
   "metadata": {
    "collapsed": false
   },
   "outputs": [],
   "source": [
    "w2v = Word2Vec.load_word2vec_format('./vectors.txt', binary=False)"
   ]
  },
  {
   "cell_type": "code",
   "execution_count": 8,
   "metadata": {
    "collapsed": false
   },
   "outputs": [
    {
     "data": {
      "text/plain": [
       "[('hearts', 0.5008265972137451),\n",
       " ('king', 0.4858705699443817),\n",
       " ('soldiers', 0.47791656851768494),\n",
       " ('white', 0.47445476055145264),\n",
       " ('looking', 0.4524249732494354),\n",
       " ('top', 0.43395373225212097),\n",
       " ('jury', 0.39905229210853577),\n",
       " ('gardeners', 0.3968312740325928),\n",
       " ('left', 0.3948673903942108),\n",
       " ('guests', 0.3779906630516052)]"
      ]
     },
     "execution_count": 8,
     "metadata": {},
     "output_type": "execute_result"
    }
   ],
   "source": [
    "w2v.most_similar(positive=['queen'])"
   ]
  },
  {
   "cell_type": "code",
   "execution_count": 9,
   "metadata": {
    "collapsed": false
   },
   "outputs": [
    {
     "data": {
      "text/plain": [
       "[('said', 0.5025979280471802),\n",
       " ('but', 0.47889235615730286),\n",
       " ('yet', 0.4665682911872864),\n",
       " ('i', 0.44512903690338135),\n",
       " ('very', 0.429546982049942),\n",
       " ('never', 0.41930341720581055),\n",
       " ('as', 0.417292058467865),\n",
       " ('come', 0.4021140933036804),\n",
       " ('hastily', 0.392463743686676),\n",
       " ('thought', 0.3823994994163513)]"
      ]
     },
     "execution_count": 9,
     "metadata": {},
     "output_type": "execute_result"
    }
   ],
   "source": [
    "w2v.most_similar(positive=['alice'])"
   ]
  },
  {
   "cell_type": "code",
   "execution_count": 10,
   "metadata": {
    "collapsed": false
   },
   "outputs": [
    {
     "data": {
      "text/plain": [
       "[('of', 0.45146051049232483),\n",
       " ('and', 0.43136486411094666),\n",
       " ('a', 0.39306485652923584),\n",
       " ('to', 0.39201533794403076),\n",
       " ('in', 0.3618614077568054),\n",
       " ('that', 0.30804580450057983),\n",
       " ('went', 0.3013942837715149),\n",
       " ('s', 0.29263943433761597),\n",
       " ('said', 0.2897889316082001),\n",
       " ('came', 0.2856040894985199)]"
      ]
     },
     "execution_count": 10,
     "metadata": {},
     "output_type": "execute_result"
    }
   ],
   "source": [
    "w2v.most_similar(positive=['the'])"
   ]
  },
  {
   "cell_type": "code",
   "execution_count": 11,
   "metadata": {
    "collapsed": true
   },
   "outputs": [],
   "source": []
  }
 ],
 "metadata": {
  "kernelspec": {
   "display_name": "Python 3",
   "language": "python",
   "name": "python3"
  },
  "language_info": {
   "codemirror_mode": {
    "name": "ipython",
    "version": 3
   },
   "file_extension": ".py",
   "mimetype": "text/x-python",
   "name": "python",
   "nbconvert_exporter": "python",
   "pygments_lexer": "ipython3",
   "version": "3.5.1"
  }
 },
 "nbformat": 4,
 "nbformat_minor": 0
}
