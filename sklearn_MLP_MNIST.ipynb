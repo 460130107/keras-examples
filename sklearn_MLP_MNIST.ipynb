{
 "cells": [
  {
   "cell_type": "code",
   "execution_count": 1,
   "metadata": {
    "collapsed": false
   },
   "outputs": [
    {
     "name": "stderr",
     "output_type": "stream",
     "text": [
      "Using Theano backend.\n"
     ]
    }
   ],
   "source": [
    "import numpy as np\n",
    "np.random.seed(13)\n",
    "\n",
    "from sklearn import grid_search\n",
    "\n",
    "from keras.models import Sequential\n",
    "from keras.datasets import mnist\n",
    "from keras.layers import Dense, Activation, Dropout\n",
    "from keras.utils import np_utils\n",
    "from keras.utils.visualize_util import model_to_dot, plot\n",
    "from keras.wrappers.scikit_learn import KerasClassifier"
   ]
  },
  {
   "cell_type": "code",
   "execution_count": 2,
   "metadata": {
    "collapsed": false
   },
   "outputs": [],
   "source": [
    "(X_train, y_train), (X_test, y_test) = mnist.load_data()\n",
    "\n",
    "nb_classes = 10 # class size\n",
    "input_unit_size = 28*28 # input vector size"
   ]
  },
  {
   "cell_type": "code",
   "execution_count": 3,
   "metadata": {
    "collapsed": false
   },
   "outputs": [],
   "source": [
    "# 前処理\n",
    "X_train = X_train.reshape(X_train.shape[0], input_unit_size)\n",
    "X_test  = X_test.reshape(X_test.shape[0], input_unit_size)\n",
    "X_train = X_train.astype('float32')\n",
    "X_test  = X_test.astype('float32')\n",
    "X_train /= 255\n",
    "X_test  /= 255"
   ]
  },
  {
   "cell_type": "code",
   "execution_count": 4,
   "metadata": {
    "collapsed": true
   },
   "outputs": [],
   "source": [
    "def create_model(activation=\"relu\", nb_hidden=10):\n",
    "    model = Sequential()\n",
    "    model.add(Dense(nb_hidden, input_dim=784, init='glorot_uniform'))\n",
    "    model.add(Activation(activation))\n",
    "    model.add(Dense(10, init='glorot_uniform'))    \n",
    "    model.add(Activation('softmax'))\n",
    "    model.compile(loss='categorical_crossentropy', optimizer=\"adadelta\", metrics=['accuracy'])\n",
    "    return model"
   ]
  },
  {
   "cell_type": "code",
   "execution_count": 5,
   "metadata": {
    "collapsed": false
   },
   "outputs": [],
   "source": [
    "activations = [\"softplus\", \"softsign\", \"relu\", \"tanh\", \"sigmoid\", \"hard_sigmoid\", \"linear\"]\n",
    "nb_hiddens = np.array([10,100,1000])\n",
    "\n",
    "param_grid = dict(activation=activations, nb_hidden=nb_hiddens)\n",
    "model = KerasClassifier(build_fn=create_model, nb_epoch=10, batch_size=256, verbose=0)\n",
    "\n",
    "clf = grid_search.GridSearchCV(estimator=model, param_grid=param_grid, cv=4, scoring='accuracy')\n",
    "res = clf.fit(X_train, y_train)"
   ]
  },
  {
   "cell_type": "code",
   "execution_count": 6,
   "metadata": {
    "collapsed": false
   },
   "outputs": [
    {
     "name": "stdout",
     "output_type": "stream",
     "text": [
      "0.971166666667 {'nb_hidden': 1000, 'activation': 'relu'}\n",
      "mean: 0.90602, std: 0.00654, params: {'nb_hidden': 10, 'activation': 'softplus'}\n",
      "mean: 0.93197, std: 0.00290, params: {'nb_hidden': 100, 'activation': 'softplus'}\n",
      "mean: 0.93367, std: 0.00376, params: {'nb_hidden': 1000, 'activation': 'softplus'}\n",
      "mean: 0.89817, std: 0.00360, params: {'nb_hidden': 10, 'activation': 'softsign'}\n",
      "mean: 0.93992, std: 0.00167, params: {'nb_hidden': 100, 'activation': 'softsign'}\n",
      "mean: 0.95432, std: 0.00113, params: {'nb_hidden': 1000, 'activation': 'softsign'}\n",
      "mean: 0.91403, std: 0.00352, params: {'nb_hidden': 10, 'activation': 'relu'}\n",
      "mean: 0.95170, std: 0.00134, params: {'nb_hidden': 100, 'activation': 'relu'}\n",
      "mean: 0.97117, std: 0.00098, params: {'nb_hidden': 1000, 'activation': 'relu'}\n",
      "mean: 0.90327, std: 0.00214, params: {'nb_hidden': 10, 'activation': 'tanh'}\n",
      "mean: 0.94548, std: 0.00259, params: {'nb_hidden': 100, 'activation': 'tanh'}\n",
      "mean: 0.95185, std: 0.00211, params: {'nb_hidden': 1000, 'activation': 'tanh'}\n",
      "mean: 0.87007, std: 0.00366, params: {'nb_hidden': 10, 'activation': 'sigmoid'}\n",
      "mean: 0.92327, std: 0.00321, params: {'nb_hidden': 100, 'activation': 'sigmoid'}\n",
      "mean: 0.91725, std: 0.00248, params: {'nb_hidden': 1000, 'activation': 'sigmoid'}\n",
      "mean: 0.87140, std: 0.00775, params: {'nb_hidden': 10, 'activation': 'hard_sigmoid'}\n",
      "mean: 0.92133, std: 0.00373, params: {'nb_hidden': 100, 'activation': 'hard_sigmoid'}\n",
      "mean: 0.91322, std: 0.00450, params: {'nb_hidden': 1000, 'activation': 'hard_sigmoid'}\n",
      "mean: 0.91000, std: 0.00306, params: {'nb_hidden': 10, 'activation': 'linear'}\n",
      "mean: 0.91957, std: 0.00337, params: {'nb_hidden': 100, 'activation': 'linear'}\n",
      "mean: 0.91712, std: 0.00566, params: {'nb_hidden': 1000, 'activation': 'linear'}\n"
     ]
    }
   ],
   "source": [
    "print(res.best_score_, res.best_params_)\n",
    "for i in res.grid_scores_:\n",
    "    print(i)"
   ]
  },
  {
   "cell_type": "code",
   "execution_count": 7,
   "metadata": {
    "collapsed": true
   },
   "outputs": [],
   "source": []
  }
 ],
 "metadata": {
  "kernelspec": {
   "display_name": "Python 3",
   "language": "python",
   "name": "python3"
  },
  "language_info": {
   "codemirror_mode": {
    "name": "ipython",
    "version": 3
   },
   "file_extension": ".py",
   "mimetype": "text/x-python",
   "name": "python",
   "nbconvert_exporter": "python",
   "pygments_lexer": "ipython3",
   "version": "3.5.1"
  }
 },
 "nbformat": 4,
 "nbformat_minor": 0
}
