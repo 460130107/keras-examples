{
 "cells": [
  {
   "cell_type": "code",
   "execution_count": null,
   "metadata": {
    "collapsed": false
   },
   "outputs": [
    {
     "name": "stderr",
     "output_type": "stream",
     "text": [
      "Using Theano backend.\n"
     ]
    }
   ],
   "source": [
    "import numpy as np\n",
    "np.random.seed(13)\n",
    "\n",
    "from IPython.display import SVG\n",
    "from keras.models import Sequential\n",
    "from keras.layers import Dense, Embedding, Lambda\n",
    "from keras.utils.data_utils import get_file\n",
    "from keras.utils import np_utils\n",
    "from keras.utils.visualize_util import model_to_dot, plot\n",
    "from keras.preprocessing import sequence\n",
    "from keras.preprocessing.text import Tokenizer, base_filter\n",
    "from gensim.models.doc2vec import Word2Vec"
   ]
  },
  {
   "cell_type": "code",
   "execution_count": null,
   "metadata": {
    "collapsed": false
   },
   "outputs": [],
   "source": [
    "base_filter()\n",
    "path = get_file('alice.txt', origin=\"http://www.gutenberg.org/cache/epub/11/pg11.txt\")\n",
    "corpus = open(path).readlines()[0:200]\n",
    "corpus = [sentence for sentence in corpus if sentence.count(\" \") >= 2]\n",
    "\n",
    "tokenizer = Tokenizer(filters=base_filter()+\"'\")\n",
    "tokenizer.fit_on_texts(corpus)\n",
    "corpus = tokenizer.texts_to_sequences(corpus)\n",
    "nb_samples = sum(len(s) for s in corpus)\n",
    "V = len(tokenizer.word_index) + 1\n",
    "dim = 100\n",
    "window_size = 2"
   ]
  },
  {
   "cell_type": "code",
   "execution_count": null,
   "metadata": {
    "collapsed": true
   },
   "outputs": [],
   "source": [
    "def generate_data(corpus, window_size, V):\n",
    "    maxlen = window_size*2\n",
    "    for words in corpus:\n",
    "        contexts = []\n",
    "        labels   = []\n",
    "        L = len(words)\n",
    "        for index, word in enumerate(words):\n",
    "            s = index-window_size\n",
    "            e = index+window_size+1\n",
    "            \n",
    "            contexts.append([words[i] for i in range(s, e) if 0 <= i < L and i != index])\n",
    "            labels.append(word)\n",
    "\n",
    "            x = sequence.pad_sequences(contexts, maxlen=maxlen)\n",
    "            y = np_utils.to_categorical(labels, V)\n",
    "\n",
    "            yield (x, y)"
   ]
  },
  {
   "cell_type": "code",
   "execution_count": null,
   "metadata": {
    "collapsed": false
   },
   "outputs": [
    {
     "data": {
      "image/svg+xml": [
       "<svg height=\"296pt\" viewBox=\"0.00 0.00 336.32 296.00\" width=\"336pt\" xmlns=\"http://www.w3.org/2000/svg\" xmlns:xlink=\"http://www.w3.org/1999/xlink\">\n",
       "<g class=\"graph\" id=\"graph0\" transform=\"scale(1 1) rotate(0) translate(4 292)\">\n",
       "<title>G</title>\n",
       "<polygon fill=\"white\" points=\"-4,4 -4,-292 332.321,-292 332.321,4 -4,4\" stroke=\"none\"/>\n",
       "<!-- 4566383808 -->\n",
       "<g class=\"node\" id=\"node1\"><title>4566383808</title>\n",
       "<polygon fill=\"none\" points=\"0,-243.5 0,-287.5 328.321,-287.5 328.321,-243.5 0,-243.5\" stroke=\"black\"/>\n",
       "<text font-family=\"Times,serif\" font-size=\"14.00\" text-anchor=\"middle\" x=\"101.502\" y=\"-261.3\">embedding_input_1 (InputLayer)</text>\n",
       "<polyline fill=\"none\" points=\"203.004,-243.5 203.004,-287.5 \" stroke=\"black\"/>\n",
       "<text font-family=\"Times,serif\" font-size=\"14.00\" text-anchor=\"middle\" x=\"230.838\" y=\"-272.3\">input:</text>\n",
       "<polyline fill=\"none\" points=\"203.004,-265.5 258.673,-265.5 \" stroke=\"black\"/>\n",
       "<text font-family=\"Times,serif\" font-size=\"14.00\" text-anchor=\"middle\" x=\"230.838\" y=\"-250.3\">output:</text>\n",
       "<polyline fill=\"none\" points=\"258.673,-243.5 258.673,-287.5 \" stroke=\"black\"/>\n",
       "<text font-family=\"Times,serif\" font-size=\"14.00\" text-anchor=\"middle\" x=\"293.497\" y=\"-272.3\">(None, 4)</text>\n",
       "<polyline fill=\"none\" points=\"258.673,-265.5 328.321,-265.5 \" stroke=\"black\"/>\n",
       "<text font-family=\"Times,serif\" font-size=\"14.00\" text-anchor=\"middle\" x=\"293.497\" y=\"-250.3\">(None, 4)</text>\n",
       "</g>\n",
       "<!-- 4566383640 -->\n",
       "<g class=\"node\" id=\"node2\"><title>4566383640</title>\n",
       "<polygon fill=\"none\" points=\"2.71387,-162.5 2.71387,-206.5 325.607,-206.5 325.607,-162.5 2.71387,-162.5\" stroke=\"black\"/>\n",
       "<text font-family=\"Times,serif\" font-size=\"14.00\" text-anchor=\"middle\" x=\"87.502\" y=\"-180.3\">embedding_1 (Embedding)</text>\n",
       "<polyline fill=\"none\" points=\"172.29,-162.5 172.29,-206.5 \" stroke=\"black\"/>\n",
       "<text font-family=\"Times,serif\" font-size=\"14.00\" text-anchor=\"middle\" x=\"200.125\" y=\"-191.3\">input:</text>\n",
       "<polyline fill=\"none\" points=\"172.29,-184.5 227.959,-184.5 \" stroke=\"black\"/>\n",
       "<text font-family=\"Times,serif\" font-size=\"14.00\" text-anchor=\"middle\" x=\"200.125\" y=\"-169.3\">output:</text>\n",
       "<polyline fill=\"none\" points=\"227.959,-162.5 227.959,-206.5 \" stroke=\"black\"/>\n",
       "<text font-family=\"Times,serif\" font-size=\"14.00\" text-anchor=\"middle\" x=\"276.783\" y=\"-191.3\">(None, 4)</text>\n",
       "<polyline fill=\"none\" points=\"227.959,-184.5 325.607,-184.5 \" stroke=\"black\"/>\n",
       "<text font-family=\"Times,serif\" font-size=\"14.00\" text-anchor=\"middle\" x=\"276.783\" y=\"-169.3\">(None, 4, 100)</text>\n",
       "</g>\n",
       "<!-- 4566383808&#45;&gt;4566383640 -->\n",
       "<g class=\"edge\" id=\"edge1\"><title>4566383808-&gt;4566383640</title>\n",
       "<path d=\"M164.161,-243.329C164.161,-235.183 164.161,-225.699 164.161,-216.797\" fill=\"none\" stroke=\"black\"/>\n",
       "<polygon fill=\"black\" points=\"167.661,-216.729 164.161,-206.729 160.661,-216.729 167.661,-216.729\" stroke=\"black\"/>\n",
       "</g>\n",
       "<!-- 4566383752 -->\n",
       "<g class=\"node\" id=\"node3\"><title>4566383752</title>\n",
       "<polygon fill=\"none\" points=\"22.5518,-81.5 22.5518,-125.5 305.77,-125.5 305.77,-81.5 22.5518,-81.5\" stroke=\"black\"/>\n",
       "<text font-family=\"Times,serif\" font-size=\"14.00\" text-anchor=\"middle\" x=\"87.502\" y=\"-99.3\">lambda_1 (Lambda)</text>\n",
       "<polyline fill=\"none\" points=\"152.452,-81.5 152.452,-125.5 \" stroke=\"black\"/>\n",
       "<text font-family=\"Times,serif\" font-size=\"14.00\" text-anchor=\"middle\" x=\"180.287\" y=\"-110.3\">input:</text>\n",
       "<polyline fill=\"none\" points=\"152.452,-103.5 208.121,-103.5 \" stroke=\"black\"/>\n",
       "<text font-family=\"Times,serif\" font-size=\"14.00\" text-anchor=\"middle\" x=\"180.287\" y=\"-88.3\">output:</text>\n",
       "<polyline fill=\"none\" points=\"208.121,-81.5 208.121,-125.5 \" stroke=\"black\"/>\n",
       "<text font-family=\"Times,serif\" font-size=\"14.00\" text-anchor=\"middle\" x=\"256.945\" y=\"-110.3\">(None, 4, 100)</text>\n",
       "<polyline fill=\"none\" points=\"208.121,-103.5 305.77,-103.5 \" stroke=\"black\"/>\n",
       "<text font-family=\"Times,serif\" font-size=\"14.00\" text-anchor=\"middle\" x=\"256.945\" y=\"-88.3\">(None, 100)</text>\n",
       "</g>\n",
       "<!-- 4566383640&#45;&gt;4566383752 -->\n",
       "<g class=\"edge\" id=\"edge2\"><title>4566383640-&gt;4566383752</title>\n",
       "<path d=\"M164.161,-162.329C164.161,-154.183 164.161,-144.699 164.161,-135.797\" fill=\"none\" stroke=\"black\"/>\n",
       "<polygon fill=\"black\" points=\"167.661,-135.729 164.161,-125.729 160.661,-135.729 167.661,-135.729\" stroke=\"black\"/>\n",
       "</g>\n",
       "<!-- 4568888768 -->\n",
       "<g class=\"node\" id=\"node4\"><title>4568888768</title>\n",
       "<polygon fill=\"none\" points=\"39.6587,-0.5 39.6587,-44.5 288.663,-44.5 288.663,-0.5 39.6587,-0.5\" stroke=\"black\"/>\n",
       "<text font-family=\"Times,serif\" font-size=\"14.00\" text-anchor=\"middle\" x=\"94.502\" y=\"-18.3\">dense_1 (Dense)</text>\n",
       "<polyline fill=\"none\" points=\"149.345,-0.5 149.345,-44.5 \" stroke=\"black\"/>\n",
       "<text font-family=\"Times,serif\" font-size=\"14.00\" text-anchor=\"middle\" x=\"177.18\" y=\"-29.3\">input:</text>\n",
       "<polyline fill=\"none\" points=\"149.345,-22.5 205.014,-22.5 \" stroke=\"black\"/>\n",
       "<text font-family=\"Times,serif\" font-size=\"14.00\" text-anchor=\"middle\" x=\"177.18\" y=\"-7.3\">output:</text>\n",
       "<polyline fill=\"none\" points=\"205.014,-0.5 205.014,-44.5 \" stroke=\"black\"/>\n",
       "<text font-family=\"Times,serif\" font-size=\"14.00\" text-anchor=\"middle\" x=\"246.838\" y=\"-29.3\">(None, 100)</text>\n",
       "<polyline fill=\"none\" points=\"205.014,-22.5 288.663,-22.5 \" stroke=\"black\"/>\n",
       "<text font-family=\"Times,serif\" font-size=\"14.00\" text-anchor=\"middle\" x=\"246.838\" y=\"-7.3\">(None, 573)</text>\n",
       "</g>\n",
       "<!-- 4566383752&#45;&gt;4568888768 -->\n",
       "<g class=\"edge\" id=\"edge3\"><title>4566383752-&gt;4568888768</title>\n",
       "<path d=\"M164.161,-81.3294C164.161,-73.1826 164.161,-63.6991 164.161,-54.7971\" fill=\"none\" stroke=\"black\"/>\n",
       "<polygon fill=\"black\" points=\"167.661,-54.729 164.161,-44.729 160.661,-54.729 167.661,-54.729\" stroke=\"black\"/>\n",
       "</g>\n",
       "</g>\n",
       "</svg>"
      ],
      "text/plain": [
       "<IPython.core.display.SVG object>"
      ]
     },
     "execution_count": 4,
     "metadata": {},
     "output_type": "execute_result"
    }
   ],
   "source": [
    "cbow = Sequential()\n",
    "cbow.add(Embedding(input_dim=V, output_dim=dim, init='glorot_uniform',input_length=window_size*2))\n",
    "cbow.add(Lambda(lambda x: K.mean(x, axis=1), output_shape=(dim,)))\n",
    "cbow.add(Dense(V, init='glorot_uniform', activation='softmax'))\n",
    "SVG(model_to_dot(cbow, show_shapes=True).create(prog='dot', format='svg'))"
   ]
  },
  {
   "cell_type": "code",
   "execution_count": null,
   "metadata": {
    "collapsed": false
   },
   "outputs": [],
   "source": [
    "cbow.compile(loss='categorical_crossentropy', optimizer=\"adadelta\")"
   ]
  },
  {
   "cell_type": "code",
   "execution_count": null,
   "metadata": {
    "collapsed": false
   },
   "outputs": [
    {
     "name": "stdout",
     "output_type": "stream",
     "text": [
      "0 10494.1636177\n",
      "1 9312.46828187\n",
      "2 8359.38306278\n",
      "3 7632.08460227\n",
      "4 7084.87363909\n",
      "5 6631.62655053\n",
      "6 6240.4081067\n",
      "7 5896.07164766\n",
      "8 5580.66496661\n",
      "9 5282.79390319\n"
     ]
    }
   ],
   "source": [
    "for ite in range(10):\n",
    "    loss = 0.\n",
    "    for x, y in generate_data(corpus, window_size, V):\n",
    "        loss += cbow.train_on_batch(x, y)\n",
    "    print(ite, loss)"
   ]
  },
  {
   "cell_type": "code",
   "execution_count": null,
   "metadata": {
    "collapsed": false
   },
   "outputs": [
    {
     "data": {
      "text/plain": [
       "1"
      ]
     },
     "execution_count": 7,
     "metadata": {},
     "output_type": "execute_result"
    }
   ],
   "source": [
    "f = open('vectors.txt' ,'w')\n",
    "f.write(\" \".join([str(V-1),str(dim)]))\n",
    "f.write(\"\\n\")"
   ]
  },
  {
   "cell_type": "code",
   "execution_count": null,
   "metadata": {
    "collapsed": false
   },
   "outputs": [],
   "source": [
    "vectors = cbow.get_weights()[0]\n",
    "for word, i in tokenizer.word_index.items():\n",
    "    f.write(word)\n",
    "    f.write(\" \")\n",
    "    f.write(\" \".join(map(str, list(vectors[i,:]))))\n",
    "    f.write(\"\\n\")\n",
    "f.close()"
   ]
  },
  {
   "cell_type": "code",
   "execution_count": null,
   "metadata": {
    "collapsed": false
   },
   "outputs": [],
   "source": [
    "w2v = Word2Vec.load_word2vec_format('./vectors.txt', binary=False)"
   ]
  },
  {
   "cell_type": "code",
   "execution_count": null,
   "metadata": {
    "collapsed": false
   },
   "outputs": [
    {
     "data": {
      "text/plain": [
       "[('burnt', 0.5030882954597473),\n",
       " ('\\ufeffproject', 0.487962931394577),\n",
       " ('taught', 0.39411720633506775),\n",
       " ('begun', 0.3898351192474365),\n",
       " ('in', 0.38597458600997925),\n",
       " ('included', 0.38231587409973145),\n",
       " ('several', 0.3809637725353241),\n",
       " ('she', 0.3741479814052582),\n",
       " ('marked', 0.37243491411209106),\n",
       " ('friends', 0.36258465051651)]"
      ]
     },
     "execution_count": 10,
     "metadata": {},
     "output_type": "execute_result"
    }
   ],
   "source": [
    "w2v.most_similar(positive=['alice'])"
   ]
  },
  {
   "cell_type": "code",
   "execution_count": null,
   "metadata": {
    "collapsed": true
   },
   "outputs": [],
   "source": []
  }
 ],
 "metadata": {
  "kernelspec": {
   "display_name": "Python 3",
   "language": "python",
   "name": "python3"
  },
  "language_info": {
   "codemirror_mode": {
    "name": "ipython",
    "version": 3
   },
   "file_extension": ".py",
   "mimetype": "text/x-python",
   "name": "python",
   "nbconvert_exporter": "python",
   "pygments_lexer": "ipython3",
   "version": "3.5.1"
  }
 },
 "nbformat": 4,
 "nbformat_minor": 0
}
