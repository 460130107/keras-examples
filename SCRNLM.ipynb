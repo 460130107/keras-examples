{
 "cells": [
  {
   "cell_type": "markdown",
   "metadata": {
    "collapsed": false
   },
   "source": [
    "## Reimplementation Structurally constrained recurrent nets (SCRN) by Keras\n",
    "\n",
    "This model proposed by Tomas Mikolov, Armand Joulin, Sumit Chopra, Michael Mathieu, and Marc'Aurelio Ranzato. [Learning Longer Memory in Recurrent Neural Networks](http://arxiv.org/abs/1412.7753)."
   ]
  },
  {
   "cell_type": "code",
   "execution_count": 1,
   "metadata": {
    "collapsed": false
   },
   "outputs": [
    {
     "name": "stderr",
     "output_type": "stream",
     "text": [
      "Using Theano backend.\n"
     ]
    }
   ],
   "source": [
    "import numpy as np\n",
    "np.random.seed(13)\n",
    "\n",
    "from keras import backend as K\n",
    "from keras import initializations, activations\n",
    "from keras.models import Model\n",
    "from keras.layers import Dense, Embedding, LSTM, SimpleRNN, Lambda, Input, Recurrent, merge, TimeDistributed, Activation\n",
    "from keras.engine import InputSpec\n",
    "from keras.utils import np_utils\n",
    "from keras.utils.data_utils import get_file\n",
    "from keras.preprocessing import sequence\n",
    "from keras.preprocessing.text import Tokenizer\n",
    "from keras.callbacks import Callback\n",
    "from keras.utils.visualize_util import model_to_dot, plot\n",
    "\n",
    "from IPython.display import SVG\n",
    "from matplotlib import pyplot as plt\n",
    "%matplotlib inline\n",
    "plt.style.use(\"ggplot\")"
   ]
  },
  {
   "cell_type": "code",
   "execution_count": 2,
   "metadata": {
    "collapsed": true
   },
   "outputs": [],
   "source": [
    "def sample(p):\n",
    "    p /= sum(p)\n",
    "    return np.argmax(np.random.multinomial(1, p, 1))"
   ]
  },
  {
   "cell_type": "code",
   "execution_count": 3,
   "metadata": {
    "collapsed": false
   },
   "outputs": [],
   "source": [
    "class ContextRNN(Recurrent):\n",
    "    def __init__(self,\n",
    "                 init='zero',\n",
    "                 alpha=0.95,\n",
    "                 **kwargs):\n",
    "\n",
    "        self.init = initializations.get(init)\n",
    "        self.alpha = alpha\n",
    "\n",
    "        super(ContextRNN, self).__init__(**kwargs)\n",
    "\n",
    "    def build(self, input_shape):\n",
    "        self.input_spec = [InputSpec(shape=input_shape)]\n",
    "        if self.stateful:\n",
    "            self.reset_states()\n",
    "        else:\n",
    "            self.states = [None]\n",
    "        input_dim = input_shape[2]\n",
    "        self.input_dim = input_dim\n",
    "        self.output_dim = input_dim\n",
    "\n",
    "    def reset_states(self):\n",
    "        assert self.stateful, 'Layer must be stateful.'\n",
    "        input_shape = self.input_spec[0].shape\n",
    "        if not input_shape[0]:\n",
    "            raise Exception('If a RNN is stateful, a complete ' +\n",
    "                            'input_shape must be provided (including batch size).')\n",
    "        if hasattr(self, 'states'):\n",
    "            K.set_value(self.states[0],\n",
    "                        np.zeros((input_shape[0], self.output_dim)))\n",
    "        else:\n",
    "            self.states = [K.zeros((input_shape[0], self.output_dim))]\n",
    "\n",
    "    def step(self, x, states):\n",
    "        prev_output = states[0]\n",
    "        output = (1.-self.alpha)*x + (self.alpha)*prev_output\n",
    "        return output, [output]\n",
    "\n",
    "    def get_config(self):\n",
    "        config = {'output_dim': self.output_dim,\n",
    "                  'alpha': self.alpha\n",
    "                  }\n",
    "        base_config = super(ContextRNN, self).get_config()\n",
    "        return dict(list(base_config.items()) + list(config.items()))"
   ]
  },
  {
   "cell_type": "code",
   "execution_count": 4,
   "metadata": {
    "collapsed": false
   },
   "outputs": [],
   "source": [
    "path = get_file('alice.txt', origin=\"http://www.gutenberg.org/cache/epub/11/pg11.txt\")\n",
    "doc = open(path).readlines()\n",
    "doc = [\"<BOS> \" + sentence + \"EOS\" for sentence in doc if sentence.count(\" \") > 2]\n",
    "tokenizer = Tokenizer()\n",
    "tokenizer.fit_on_texts(doc)\n",
    "doc = tokenizer.texts_to_sequences(doc)\n",
    "V = len(tokenizer.word_index)+1"
   ]
  },
  {
   "cell_type": "code",
   "execution_count": 5,
   "metadata": {
    "collapsed": false
   },
   "outputs": [
    {
     "name": "stdout",
     "output_type": "stream",
     "text": [
      "(33115, 19) (33115, 3318)\n"
     ]
    }
   ],
   "source": [
    "data = []\n",
    "targets = []\n",
    "for sentence in doc:\n",
    "    for i in range(1, len(sentence)):\n",
    "        start = 0\n",
    "        data.append(sentence[start:i])\n",
    "        targets.append(sentence[i])\n",
    "\n",
    "Y = np_utils.to_categorical(targets, V)\n",
    "maxlen = max(map(len, data))\n",
    "X = sequence.pad_sequences(data, maxlen=maxlen)\n",
    "print(X.shape, Y.shape)"
   ]
  },
  {
   "cell_type": "code",
   "execution_count": 6,
   "metadata": {
    "collapsed": false
   },
   "outputs": [
    {
     "data": {
      "image/svg+xml": [
       "<svg height=\"701pt\" viewBox=\"0.00 0.00 653.95 701.00\" width=\"654pt\" xmlns=\"http://www.w3.org/2000/svg\" xmlns:xlink=\"http://www.w3.org/1999/xlink\">\n",
       "<g class=\"graph\" id=\"graph0\" transform=\"scale(1 1) rotate(0) translate(4 697)\">\n",
       "<title>G</title>\n",
       "<polygon fill=\"white\" points=\"-4,4 -4,-697 649.952,-697 649.952,4 -4,4\" stroke=\"none\"/>\n",
       "<!-- 4530869248 -->\n",
       "<g class=\"node\" id=\"node1\"><title>4530869248</title>\n",
       "<polygon fill=\"none\" points=\"217.215,-648.5 217.215,-692.5 447.55,-692.5 447.55,-648.5 217.215,-648.5\" stroke=\"black\"/>\n",
       "<text font-family=\"Times,serif\" font-size=\"14.00\" text-anchor=\"middle\" x=\"266.224\" y=\"-666.3\">x (InputLayer)</text>\n",
       "<polyline fill=\"none\" points=\"315.232,-648.5 315.232,-692.5 \" stroke=\"black\"/>\n",
       "<text font-family=\"Times,serif\" font-size=\"14.00\" text-anchor=\"middle\" x=\"343.067\" y=\"-677.3\">input:</text>\n",
       "<polyline fill=\"none\" points=\"315.232,-670.5 370.901,-670.5 \" stroke=\"black\"/>\n",
       "<text font-family=\"Times,serif\" font-size=\"14.00\" text-anchor=\"middle\" x=\"343.067\" y=\"-655.3\">output:</text>\n",
       "<polyline fill=\"none\" points=\"370.901,-648.5 370.901,-692.5 \" stroke=\"black\"/>\n",
       "<text font-family=\"Times,serif\" font-size=\"14.00\" text-anchor=\"middle\" x=\"409.226\" y=\"-677.3\">(None, 19)</text>\n",
       "<polyline fill=\"none\" points=\"370.901,-670.5 447.55,-670.5 \" stroke=\"black\"/>\n",
       "<text font-family=\"Times,serif\" font-size=\"14.00\" text-anchor=\"middle\" x=\"409.226\" y=\"-655.3\">(None, 19)</text>\n",
       "</g>\n",
       "<!-- 4530869304 -->\n",
       "<g class=\"node\" id=\"node2\"><title>4530869304</title>\n",
       "<polygon fill=\"none\" points=\"89.8701,-567.5 89.8701,-611.5 352.895,-611.5 352.895,-567.5 89.8701,-567.5\" stroke=\"black\"/>\n",
       "<text font-family=\"Times,serif\" font-size=\"14.00\" text-anchor=\"middle\" x=\"144.724\" y=\"-585.3\">Bx (Embedding)</text>\n",
       "<polyline fill=\"none\" points=\"199.577,-567.5 199.577,-611.5 \" stroke=\"black\"/>\n",
       "<text font-family=\"Times,serif\" font-size=\"14.00\" text-anchor=\"middle\" x=\"227.412\" y=\"-596.3\">input:</text>\n",
       "<polyline fill=\"none\" points=\"199.577,-589.5 255.246,-589.5 \" stroke=\"black\"/>\n",
       "<text font-family=\"Times,serif\" font-size=\"14.00\" text-anchor=\"middle\" x=\"227.412\" y=\"-574.3\">output:</text>\n",
       "<polyline fill=\"none\" points=\"255.246,-567.5 255.246,-611.5 \" stroke=\"black\"/>\n",
       "<text font-family=\"Times,serif\" font-size=\"14.00\" text-anchor=\"middle\" x=\"304.07\" y=\"-596.3\">(None, 19)</text>\n",
       "<polyline fill=\"none\" points=\"255.246,-589.5 352.895,-589.5 \" stroke=\"black\"/>\n",
       "<text font-family=\"Times,serif\" font-size=\"14.00\" text-anchor=\"middle\" x=\"304.07\" y=\"-574.3\">(None, 19, 40)</text>\n",
       "</g>\n",
       "<!-- 4530869248&#45;&gt;4530869304 -->\n",
       "<g class=\"edge\" id=\"edge1\"><title>4530869248-&gt;4530869304</title>\n",
       "<path d=\"M302.636,-648.329C289.448,-638.943 273.766,-627.782 259.713,-617.78\" fill=\"none\" stroke=\"black\"/>\n",
       "<polygon fill=\"black\" points=\"261.387,-614.676 251.21,-611.729 257.328,-620.379 261.387,-614.676\" stroke=\"black\"/>\n",
       "</g>\n",
       "<!-- 5425653408 -->\n",
       "<g class=\"node\" id=\"node4\"><title>5425653408</title>\n",
       "<polygon fill=\"none\" points=\"338.984,-486.5 338.984,-530.5 609.781,-530.5 609.781,-486.5 338.984,-486.5\" stroke=\"black\"/>\n",
       "<text font-family=\"Times,serif\" font-size=\"14.00\" text-anchor=\"middle\" x=\"394.224\" y=\"-504.3\">Ax (Embedding)</text>\n",
       "<polyline fill=\"none\" points=\"449.463,-486.5 449.463,-530.5 \" stroke=\"black\"/>\n",
       "<text font-family=\"Times,serif\" font-size=\"14.00\" text-anchor=\"middle\" x=\"477.298\" y=\"-515.3\">input:</text>\n",
       "<polyline fill=\"none\" points=\"449.463,-508.5 505.132,-508.5 \" stroke=\"black\"/>\n",
       "<text font-family=\"Times,serif\" font-size=\"14.00\" text-anchor=\"middle\" x=\"477.298\" y=\"-493.3\">output:</text>\n",
       "<polyline fill=\"none\" points=\"505.132,-486.5 505.132,-530.5 \" stroke=\"black\"/>\n",
       "<text font-family=\"Times,serif\" font-size=\"14.00\" text-anchor=\"middle\" x=\"557.457\" y=\"-515.3\">(None, 19)</text>\n",
       "<polyline fill=\"none\" points=\"505.132,-508.5 609.781,-508.5 \" stroke=\"black\"/>\n",
       "<text font-family=\"Times,serif\" font-size=\"14.00\" text-anchor=\"middle\" x=\"557.457\" y=\"-493.3\">(None, 19, 100)</text>\n",
       "</g>\n",
       "<!-- 4530869248&#45;&gt;5425653408 -->\n",
       "<g class=\"edge\" id=\"edge3\"><title>4530869248-&gt;5425653408</title>\n",
       "<path d=\"M351.239,-648.253C376.346,-619.963 420.841,-569.828 448.913,-538.198\" fill=\"none\" stroke=\"black\"/>\n",
       "<polygon fill=\"black\" points=\"451.654,-540.382 455.674,-530.58 446.418,-535.736 451.654,-540.382\" stroke=\"black\"/>\n",
       "</g>\n",
       "<!-- 4379048144 -->\n",
       "<g class=\"node\" id=\"node3\"><title>4379048144</title>\n",
       "<polygon fill=\"none\" points=\"59.6426,-486.5 59.6426,-530.5 321.122,-530.5 321.122,-486.5 59.6426,-486.5\" stroke=\"black\"/>\n",
       "<text font-family=\"Times,serif\" font-size=\"14.00\" text-anchor=\"middle\" x=\"113.724\" y=\"-504.3\">s (ContextRNN)</text>\n",
       "<polyline fill=\"none\" points=\"167.805,-486.5 167.805,-530.5 \" stroke=\"black\"/>\n",
       "<text font-family=\"Times,serif\" font-size=\"14.00\" text-anchor=\"middle\" x=\"195.639\" y=\"-515.3\">input:</text>\n",
       "<polyline fill=\"none\" points=\"167.805,-508.5 223.474,-508.5 \" stroke=\"black\"/>\n",
       "<text font-family=\"Times,serif\" font-size=\"14.00\" text-anchor=\"middle\" x=\"195.639\" y=\"-493.3\">output:</text>\n",
       "<polyline fill=\"none\" points=\"223.474,-486.5 223.474,-530.5 \" stroke=\"black\"/>\n",
       "<text font-family=\"Times,serif\" font-size=\"14.00\" text-anchor=\"middle\" x=\"272.298\" y=\"-515.3\">(None, 19, 40)</text>\n",
       "<polyline fill=\"none\" points=\"223.474,-508.5 321.122,-508.5 \" stroke=\"black\"/>\n",
       "<text font-family=\"Times,serif\" font-size=\"14.00\" text-anchor=\"middle\" x=\"272.298\" y=\"-493.3\">(None, 19, 40)</text>\n",
       "</g>\n",
       "<!-- 4530869304&#45;&gt;4379048144 -->\n",
       "<g class=\"edge\" id=\"edge2\"><title>4530869304-&gt;4379048144</title>\n",
       "<path d=\"M213.075,-567.329C209.809,-559.005 205.995,-549.286 202.436,-540.217\" fill=\"none\" stroke=\"black\"/>\n",
       "<polygon fill=\"black\" points=\"205.624,-538.759 198.713,-530.729 199.107,-541.316 205.624,-538.759\" stroke=\"black\"/>\n",
       "</g>\n",
       "<!-- 5425489568 -->\n",
       "<g class=\"node\" id=\"node5\"><title>5425489568</title>\n",
       "<polygon fill=\"none\" points=\"152.168,-405.5 152.168,-449.5 446.597,-449.5 446.597,-405.5 152.168,-405.5\" stroke=\"black\"/>\n",
       "<text font-family=\"Times,serif\" font-size=\"14.00\" text-anchor=\"middle\" x=\"219.224\" y=\"-423.3\">Ps (TimeDistributed)</text>\n",
       "<polyline fill=\"none\" points=\"286.279,-405.5 286.279,-449.5 \" stroke=\"black\"/>\n",
       "<text font-family=\"Times,serif\" font-size=\"14.00\" text-anchor=\"middle\" x=\"314.114\" y=\"-434.3\">input:</text>\n",
       "<polyline fill=\"none\" points=\"286.279,-427.5 341.948,-427.5 \" stroke=\"black\"/>\n",
       "<text font-family=\"Times,serif\" font-size=\"14.00\" text-anchor=\"middle\" x=\"314.114\" y=\"-412.3\">output:</text>\n",
       "<polyline fill=\"none\" points=\"341.948,-405.5 341.948,-449.5 \" stroke=\"black\"/>\n",
       "<text font-family=\"Times,serif\" font-size=\"14.00\" text-anchor=\"middle\" x=\"394.272\" y=\"-434.3\">(None, 19, 40)</text>\n",
       "<polyline fill=\"none\" points=\"341.948,-427.5 446.597,-427.5 \" stroke=\"black\"/>\n",
       "<text font-family=\"Times,serif\" font-size=\"14.00\" text-anchor=\"middle\" x=\"394.272\" y=\"-412.3\">(None, 19, 100)</text>\n",
       "</g>\n",
       "<!-- 4379048144&#45;&gt;5425489568 -->\n",
       "<g class=\"edge\" id=\"edge4\"><title>4379048144-&gt;5425489568</title>\n",
       "<path d=\"M219.592,-486.329C232.543,-476.943 247.943,-465.782 261.742,-455.78\" fill=\"none\" stroke=\"black\"/>\n",
       "<polygon fill=\"black\" points=\"264.049,-458.431 270.092,-449.729 259.941,-452.764 264.049,-458.431\" stroke=\"black\"/>\n",
       "</g>\n",
       "<!-- 5425489344 -->\n",
       "<g class=\"node\" id=\"node8\"><title>5425489344</title>\n",
       "<polygon fill=\"none\" points=\"0,-324.5 0,-368.5 248.765,-368.5 248.765,-324.5 0,-324.5\" stroke=\"black\"/>\n",
       "<text font-family=\"Times,serif\" font-size=\"14.00\" text-anchor=\"middle\" x=\"47.7236\" y=\"-342.3\">s_T (Lambda)</text>\n",
       "<polyline fill=\"none\" points=\"95.4473,-324.5 95.4473,-368.5 \" stroke=\"black\"/>\n",
       "<text font-family=\"Times,serif\" font-size=\"14.00\" text-anchor=\"middle\" x=\"123.282\" y=\"-353.3\">input:</text>\n",
       "<polyline fill=\"none\" points=\"95.4473,-346.5 151.116,-346.5 \" stroke=\"black\"/>\n",
       "<text font-family=\"Times,serif\" font-size=\"14.00\" text-anchor=\"middle\" x=\"123.282\" y=\"-331.3\">output:</text>\n",
       "<polyline fill=\"none\" points=\"151.116,-324.5 151.116,-368.5 \" stroke=\"black\"/>\n",
       "<text font-family=\"Times,serif\" font-size=\"14.00\" text-anchor=\"middle\" x=\"199.94\" y=\"-353.3\">(None, 19, 40)</text>\n",
       "<polyline fill=\"none\" points=\"151.116,-346.5 248.765,-346.5 \" stroke=\"black\"/>\n",
       "<text font-family=\"Times,serif\" font-size=\"14.00\" text-anchor=\"middle\" x=\"199.94\" y=\"-331.3\">(None, 40)</text>\n",
       "</g>\n",
       "<!-- 4379048144&#45;&gt;5425489344 -->\n",
       "<g class=\"edge\" id=\"edge8\"><title>4379048144-&gt;5425489344</title>\n",
       "<path d=\"M168.751,-486.36C159.563,-476.195 149.567,-463.334 143.382,-450 132.96,-427.527 128.251,-399.784 126.125,-378.83\" fill=\"none\" stroke=\"black\"/>\n",
       "<polygon fill=\"black\" points=\"129.61,-378.507 125.254,-368.849 122.637,-379.116 129.61,-378.507\" stroke=\"black\"/>\n",
       "</g>\n",
       "<!-- 5425655704 -->\n",
       "<g class=\"node\" id=\"node6\"><title>5425655704</title>\n",
       "<polygon fill=\"none\" points=\"266.812,-324.5 266.812,-368.5 645.952,-368.5 645.952,-324.5 266.812,-324.5\" stroke=\"black\"/>\n",
       "<text font-family=\"Times,serif\" font-size=\"14.00\" text-anchor=\"middle\" x=\"323.737\" y=\"-342.3\">merge_1 (Merge)</text>\n",
       "<polyline fill=\"none\" points=\"380.662,-324.5 380.662,-368.5 \" stroke=\"black\"/>\n",
       "<text font-family=\"Times,serif\" font-size=\"14.00\" text-anchor=\"middle\" x=\"408.497\" y=\"-353.3\">input:</text>\n",
       "<polyline fill=\"none\" points=\"380.662,-346.5 436.331,-346.5 \" stroke=\"black\"/>\n",
       "<text font-family=\"Times,serif\" font-size=\"14.00\" text-anchor=\"middle\" x=\"408.497\" y=\"-331.3\">output:</text>\n",
       "<polyline fill=\"none\" points=\"436.331,-324.5 436.331,-368.5 \" stroke=\"black\"/>\n",
       "<text font-family=\"Times,serif\" font-size=\"14.00\" text-anchor=\"middle\" x=\"541.142\" y=\"-353.3\">[(None, 19, 100), (None, 19, 100)]</text>\n",
       "<polyline fill=\"none\" points=\"436.331,-346.5 645.952,-346.5 \" stroke=\"black\"/>\n",
       "<text font-family=\"Times,serif\" font-size=\"14.00\" text-anchor=\"middle\" x=\"540.655\" y=\"-331.3\">(None, 19, 100)</text>\n",
       "</g>\n",
       "<!-- 5425653408&#45;&gt;5425655704 -->\n",
       "<g class=\"edge\" id=\"edge5\"><title>5425653408-&gt;5425655704</title>\n",
       "<path d=\"M471.992,-486.253C468.89,-458.683 463.454,-410.363 459.886,-378.646\" fill=\"none\" stroke=\"black\"/>\n",
       "<polygon fill=\"black\" points=\"463.35,-378.126 458.754,-368.58 456.394,-378.908 463.35,-378.126\" stroke=\"black\"/>\n",
       "</g>\n",
       "<!-- 5425489568&#45;&gt;5425655704 -->\n",
       "<g class=\"edge\" id=\"edge6\"><title>5425489568-&gt;5425655704</title>\n",
       "<path d=\"M341.455,-405.329C361.157,-395.416 384.791,-383.523 405.491,-373.108\" fill=\"none\" stroke=\"black\"/>\n",
       "<polygon fill=\"black\" points=\"407.106,-376.213 414.466,-368.592 403.959,-369.96 407.106,-376.213\" stroke=\"black\"/>\n",
       "</g>\n",
       "<!-- 5425692344 -->\n",
       "<g class=\"node\" id=\"node7\"><title>5425692344</title>\n",
       "<polygon fill=\"none\" points=\"306.698,-243.5 306.698,-287.5 572.067,-287.5 572.067,-243.5 306.698,-243.5\" stroke=\"black\"/>\n",
       "<text font-family=\"Times,serif\" font-size=\"14.00\" text-anchor=\"middle\" x=\"359.224\" y=\"-261.3\">h (SimpleRNN)</text>\n",
       "<polyline fill=\"none\" points=\"411.75,-243.5 411.75,-287.5 \" stroke=\"black\"/>\n",
       "<text font-family=\"Times,serif\" font-size=\"14.00\" text-anchor=\"middle\" x=\"439.584\" y=\"-272.3\">input:</text>\n",
       "<polyline fill=\"none\" points=\"411.75,-265.5 467.418,-265.5 \" stroke=\"black\"/>\n",
       "<text font-family=\"Times,serif\" font-size=\"14.00\" text-anchor=\"middle\" x=\"439.584\" y=\"-250.3\">output:</text>\n",
       "<polyline fill=\"none\" points=\"467.418,-243.5 467.418,-287.5 \" stroke=\"black\"/>\n",
       "<text font-family=\"Times,serif\" font-size=\"14.00\" text-anchor=\"middle\" x=\"519.743\" y=\"-272.3\">(None, 19, 100)</text>\n",
       "<polyline fill=\"none\" points=\"467.418,-265.5 572.067,-265.5 \" stroke=\"black\"/>\n",
       "<text font-family=\"Times,serif\" font-size=\"14.00\" text-anchor=\"middle\" x=\"519.743\" y=\"-250.3\">(None, 100)</text>\n",
       "</g>\n",
       "<!-- 5425655704&#45;&gt;5425692344 -->\n",
       "<g class=\"edge\" id=\"edge7\"><title>5425655704-&gt;5425692344</title>\n",
       "<path d=\"M451.827,-324.329C450.054,-316.094 447.988,-306.493 446.055,-297.507\" fill=\"none\" stroke=\"black\"/>\n",
       "<polygon fill=\"black\" points=\"449.476,-296.769 443.951,-287.729 442.633,-298.242 449.476,-296.769\" stroke=\"black\"/>\n",
       "</g>\n",
       "<!-- 5425738416 -->\n",
       "<g class=\"node\" id=\"node9\"><title>5425738416</title>\n",
       "<polygon fill=\"none\" points=\"279.38,-162.5 279.38,-206.5 535.384,-206.5 535.384,-162.5 279.38,-162.5\" stroke=\"black\"/>\n",
       "<text font-family=\"Times,serif\" font-size=\"14.00\" text-anchor=\"middle\" x=\"334.224\" y=\"-180.3\">dense_2 (Dense)</text>\n",
       "<polyline fill=\"none\" points=\"389.067,-162.5 389.067,-206.5 \" stroke=\"black\"/>\n",
       "<text font-family=\"Times,serif\" font-size=\"14.00\" text-anchor=\"middle\" x=\"416.901\" y=\"-191.3\">input:</text>\n",
       "<polyline fill=\"none\" points=\"389.067,-184.5 444.736,-184.5 \" stroke=\"black\"/>\n",
       "<text font-family=\"Times,serif\" font-size=\"14.00\" text-anchor=\"middle\" x=\"416.901\" y=\"-169.3\">output:</text>\n",
       "<polyline fill=\"none\" points=\"444.736,-162.5 444.736,-206.5 \" stroke=\"black\"/>\n",
       "<text font-family=\"Times,serif\" font-size=\"14.00\" text-anchor=\"middle\" x=\"490.06\" y=\"-191.3\">(None, 100)</text>\n",
       "<polyline fill=\"none\" points=\"444.736,-184.5 535.384,-184.5 \" stroke=\"black\"/>\n",
       "<text font-family=\"Times,serif\" font-size=\"14.00\" text-anchor=\"middle\" x=\"490.06\" y=\"-169.3\">(None, 3318)</text>\n",
       "</g>\n",
       "<!-- 5425692344&#45;&gt;5425738416 -->\n",
       "<g class=\"edge\" id=\"edge9\"><title>5425692344-&gt;5425738416</title>\n",
       "<path d=\"M430.807,-243.329C427.435,-235.005 423.498,-225.286 419.825,-216.217\" fill=\"none\" stroke=\"black\"/>\n",
       "<polygon fill=\"black\" points=\"422.98,-214.683 415.981,-206.729 416.492,-217.312 422.98,-214.683\" stroke=\"black\"/>\n",
       "</g>\n",
       "<!-- 5425652792 -->\n",
       "<g class=\"node\" id=\"node10\"><title>5425652792</title>\n",
       "<polygon fill=\"none\" points=\"45.5391,-243.5 45.5391,-287.5 271.226,-287.5 271.226,-243.5 45.5391,-243.5\" stroke=\"black\"/>\n",
       "<text font-family=\"Times,serif\" font-size=\"14.00\" text-anchor=\"middle\" x=\"85.2236\" y=\"-261.3\">Vs (Dense)</text>\n",
       "<polyline fill=\"none\" points=\"124.908,-243.5 124.908,-287.5 \" stroke=\"black\"/>\n",
       "<text font-family=\"Times,serif\" font-size=\"14.00\" text-anchor=\"middle\" x=\"152.743\" y=\"-272.3\">input:</text>\n",
       "<polyline fill=\"none\" points=\"124.908,-265.5 180.577,-265.5 \" stroke=\"black\"/>\n",
       "<text font-family=\"Times,serif\" font-size=\"14.00\" text-anchor=\"middle\" x=\"152.743\" y=\"-250.3\">output:</text>\n",
       "<polyline fill=\"none\" points=\"180.577,-243.5 180.577,-287.5 \" stroke=\"black\"/>\n",
       "<text font-family=\"Times,serif\" font-size=\"14.00\" text-anchor=\"middle\" x=\"225.901\" y=\"-272.3\">(None, 40)</text>\n",
       "<polyline fill=\"none\" points=\"180.577,-265.5 271.226,-265.5 \" stroke=\"black\"/>\n",
       "<text font-family=\"Times,serif\" font-size=\"14.00\" text-anchor=\"middle\" x=\"225.901\" y=\"-250.3\">(None, 3318)</text>\n",
       "</g>\n",
       "<!-- 5425489344&#45;&gt;5425652792 -->\n",
       "<g class=\"edge\" id=\"edge10\"><title>5425489344-&gt;5425652792</title>\n",
       "<path d=\"M133.494,-324.329C137.114,-315.917 141.348,-306.079 145.287,-296.928\" fill=\"none\" stroke=\"black\"/>\n",
       "<polygon fill=\"black\" points=\"148.507,-298.298 149.246,-287.729 142.078,-295.531 148.507,-298.298\" stroke=\"black\"/>\n",
       "</g>\n",
       "<!-- 4384609504 -->\n",
       "<g class=\"node\" id=\"node11\"><title>4384609504</title>\n",
       "<polygon fill=\"none\" points=\"137.812,-81.5 137.812,-125.5 488.952,-125.5 488.952,-81.5 137.812,-81.5\" stroke=\"black\"/>\n",
       "<text font-family=\"Times,serif\" font-size=\"14.00\" text-anchor=\"middle\" x=\"194.737\" y=\"-99.3\">merge_2 (Merge)</text>\n",
       "<polyline fill=\"none\" points=\"251.662,-81.5 251.662,-125.5 \" stroke=\"black\"/>\n",
       "<text font-family=\"Times,serif\" font-size=\"14.00\" text-anchor=\"middle\" x=\"279.497\" y=\"-110.3\">input:</text>\n",
       "<polyline fill=\"none\" points=\"251.662,-103.5 307.331,-103.5 \" stroke=\"black\"/>\n",
       "<text font-family=\"Times,serif\" font-size=\"14.00\" text-anchor=\"middle\" x=\"279.497\" y=\"-88.3\">output:</text>\n",
       "<polyline fill=\"none\" points=\"307.331,-81.5 307.331,-125.5 \" stroke=\"black\"/>\n",
       "<text font-family=\"Times,serif\" font-size=\"14.00\" text-anchor=\"middle\" x=\"398.142\" y=\"-110.3\">[(None, 3318), (None, 3318)]</text>\n",
       "<polyline fill=\"none\" points=\"307.331,-103.5 488.952,-103.5 \" stroke=\"black\"/>\n",
       "<text font-family=\"Times,serif\" font-size=\"14.00\" text-anchor=\"middle\" x=\"397.655\" y=\"-88.3\">(None, 3318)</text>\n",
       "</g>\n",
       "<!-- 5425738416&#45;&gt;4384609504 -->\n",
       "<g class=\"edge\" id=\"edge11\"><title>5425738416-&gt;4384609504</title>\n",
       "<path d=\"M382.192,-162.329C371.234,-153.12 358.243,-142.202 346.518,-132.348\" fill=\"none\" stroke=\"black\"/>\n",
       "<polygon fill=\"black\" points=\"348.549,-129.483 338.642,-125.729 344.046,-134.842 348.549,-129.483\" stroke=\"black\"/>\n",
       "</g>\n",
       "<!-- 5425652792&#45;&gt;4384609504 -->\n",
       "<g class=\"edge\" id=\"edge12\"><title>5425652792-&gt;4384609504</title>\n",
       "<path d=\"M178.965,-243.253C206.487,-214.844 255.352,-164.403 285.97,-132.797\" fill=\"none\" stroke=\"black\"/>\n",
       "<polygon fill=\"black\" points=\"288.517,-135.198 292.961,-125.58 283.489,-130.327 288.517,-135.198\" stroke=\"black\"/>\n",
       "</g>\n",
       "<!-- 4384611744 -->\n",
       "<g class=\"node\" id=\"node12\"><title>4384611744</title>\n",
       "<polygon fill=\"none\" points=\"192.763,-0.5 192.763,-44.5 434.001,-44.5 434.001,-0.5 192.763,-0.5\" stroke=\"black\"/>\n",
       "<text font-family=\"Times,serif\" font-size=\"14.00\" text-anchor=\"middle\" x=\"240.224\" y=\"-18.3\">y (Activation)</text>\n",
       "<polyline fill=\"none\" points=\"287.684,-0.5 287.684,-44.5 \" stroke=\"black\"/>\n",
       "<text font-family=\"Times,serif\" font-size=\"14.00\" text-anchor=\"middle\" x=\"315.519\" y=\"-29.3\">input:</text>\n",
       "<polyline fill=\"none\" points=\"287.684,-22.5 343.353,-22.5 \" stroke=\"black\"/>\n",
       "<text font-family=\"Times,serif\" font-size=\"14.00\" text-anchor=\"middle\" x=\"315.519\" y=\"-7.3\">output:</text>\n",
       "<polyline fill=\"none\" points=\"343.353,-0.5 343.353,-44.5 \" stroke=\"black\"/>\n",
       "<text font-family=\"Times,serif\" font-size=\"14.00\" text-anchor=\"middle\" x=\"388.677\" y=\"-29.3\">(None, 3318)</text>\n",
       "<polyline fill=\"none\" points=\"343.353,-22.5 434.001,-22.5 \" stroke=\"black\"/>\n",
       "<text font-family=\"Times,serif\" font-size=\"14.00\" text-anchor=\"middle\" x=\"388.677\" y=\"-7.3\">(None, 3318)</text>\n",
       "</g>\n",
       "<!-- 4384609504&#45;&gt;4384611744 -->\n",
       "<g class=\"edge\" id=\"edge13\"><title>4384609504-&gt;4384611744</title>\n",
       "<path d=\"M313.382,-81.3294C313.382,-73.1826 313.382,-63.6991 313.382,-54.7971\" fill=\"none\" stroke=\"black\"/>\n",
       "<polygon fill=\"black\" points=\"316.882,-54.729 313.382,-44.729 309.882,-54.729 316.882,-54.729\" stroke=\"black\"/>\n",
       "</g>\n",
       "</g>\n",
       "</svg>"
      ],
      "text/plain": [
       "<IPython.core.display.SVG object>"
      ]
     },
     "execution_count": 6,
     "metadata": {},
     "output_type": "execute_result"
    }
   ],
   "source": [
    "def get_RNN_last(x):\n",
    "    return x[:,-1,:]\n",
    "\n",
    "def get_RNN_last_shape(input_shape):\n",
    "    assert len(input_shape) == 3\n",
    "    return (None, input_shape[-1])\n",
    "\n",
    "nb_hidden = 100\n",
    "nb_context = 40\n",
    "m = 100\n",
    "w = Input(shape=(maxlen,), dtype='int32', name='x')\n",
    "\n",
    "#slow\n",
    "b = Embedding(output_dim=nb_context, input_dim=V, input_length=maxlen, name='Bx')(w)\n",
    "s = ContextRNN(return_sequences=True, name=\"s\")(b)\n",
    "ps = TimeDistributed(Dense(m), name=\"Ps\")(s)\n",
    "\n",
    "s = Lambda(lambda x: get_RNN_last(x), output_shape=get_RNN_last_shape, name=\"s_T\")(s)\n",
    "v = Dense(V, name=\"Vs\")(s)\n",
    "\n",
    "# fast\n",
    "x = Embedding(output_dim=m, input_dim=V, input_length=maxlen, name='Ax')(w)\n",
    "x = merge([x, ps], mode='sum')\n",
    "\n",
    "x = SimpleRNN(nb_hidden, activation=\"sigmoid\", return_sequences=False, name=\"h\")(x)\n",
    "x = Dense(V)(x)\n",
    "x = merge([x,v], mode='sum')\n",
    "y = Activation(\"softmax\", name='y')(x)\n",
    "\n",
    "model = Model(input=w, output=y)\n",
    "\n",
    "SVG(model_to_dot(model, show_shapes=True).create(prog='dot', format='svg'))"
   ]
  },
  {
   "cell_type": "code",
   "execution_count": 7,
   "metadata": {
    "collapsed": true
   },
   "outputs": [],
   "source": [
    "model.compile(loss='categorical_crossentropy',\n",
    "              optimizer='adadelta',\n",
    "              metrics=['accuracy'])"
   ]
  },
  {
   "cell_type": "code",
   "execution_count": 8,
   "metadata": {
    "collapsed": false
   },
   "outputs": [],
   "source": [
    "class Show(Callback):\n",
    "    def on_epoch_end(self, epoch, logs={}):\n",
    "        in_words = \"<bos>\"\n",
    "        for _ in range(maxlen):\n",
    "            in_sequence = sequence.pad_sequences(tokenizer.texts_to_sequences([in_words]), maxlen=maxlen)\n",
    "            wordid = sample(model.predict(in_sequence)[0])\n",
    "            for k, v in tokenizer.word_index.items():\n",
    "                if v == wordid:\n",
    "                    in_words += \" \" + k\n",
    "                    break\n",
    "            if k == \"eos\":\n",
    "                break\n",
    "        print(in_words.replace(\" eos\", \"\").replace(\"<bos> \", \"\"))\n",
    "\n",
    "show = Show()"
   ]
  },
  {
   "cell_type": "code",
   "execution_count": 9,
   "metadata": {
    "collapsed": false,
    "scrolled": true
   },
   "outputs": [
    {
     "name": "stdout",
     "output_type": "stream",
     "text": [
      "arch 'how the a and sides lodging the alice ledge she ' her way look the anything\n",
      "get 'that's were went very bird\n",
      "with ' feelings a any cat counting ' party more bad more at\n",
      "tidy that page to morning soup sending all in clinging to something but little one to\n",
      "used 'or ' she with quarrel which i hat gryphon compressed several take a\n",
      "at length work into does very would and\n",
      "hare say nasty ' looking ought i these ' while arm gryphon\n",
      "said curious wondering i'm feel the is she look wonder\n",
      "of did but place under footman it for you\n",
      "becoming before as a be so not manage and wandered bawled to why '\n",
      "my got soup next timidly evidently wonder first and for 'what all who bottle cook\n",
      "very checked 'it no 'now as pair the 'somebody child ' and ' fancy\n",
      "mallets quite chuckled child into much then a in sudden read their said some\n",
      "for and haven't was curving ' the i 'you see\n",
      "went under herself answered quite she with she wind just\n",
      "my kitchen twinkle gloves said at too about ' might lonely you join know\n",
      "queen living is the must she o'clock room for however out it\n",
      "change think alice else it she and alice wish itself the the without\n",
      "up up well first not hit ' and ' said to little\n",
      "was added cried her pigeon very found was you found go to quite\n",
      "what and and shrieks she cheap of means it herself and\n",
      "shook away very this do back the 'i met the do '\n",
      "lobster said quite you curious ' i had quite wherever said alice please can't it see\n",
      "' a seven was down alice which indeed the see\n",
      "'not but the think no say in in was heads and her miles\n",
      "their duchess she looked you its mad time the pigeon off said\n",
      "the mouse its hatter she in of alice so with on more ' ' said\n",
      "to watch then at alice 'i'm sharply and one even\n",
      "as to let away lory had tongue shriek and\n",
      "'now speaking many they puffed talk here without rise know the 'but\n",
      "this catching ' said pattering they he'd was in juror an cat\n",
      "march king is it of slates stoop on 'it's instance waiting him you tell\n"
     ]
    },
    {
     "data": {
      "text/plain": [
       "<keras.callbacks.History at 0x14adfa780>"
      ]
     },
     "execution_count": 9,
     "metadata": {},
     "output_type": "execute_result"
    }
   ],
   "source": [
    "model.fit(X, Y, batch_size=128, nb_epoch=32, validation_split=0.2, callbacks=[show], verbose=0)"
   ]
  },
  {
   "cell_type": "markdown",
   "metadata": {},
   "source": [
    "## random sampling"
   ]
  },
  {
   "cell_type": "code",
   "execution_count": 10,
   "metadata": {
    "collapsed": false
   },
   "outputs": [
    {
     "name": "stdout",
     "output_type": "stream",
     "text": [
      "0 might knew she branches in the hatter of reach to by listening question conduct\n",
      "1 heard appealed it ' it to take you 'oh it's 'with to\n",
      "2 to kept can queen it canterbury certainly she as a throne looking hard '\n",
      "3 be four a way it her know '\n",
      "4 lived but thought the argument it's a first skurried and ancient tell do mine to how\n",
      "5 downloading to the it was deny there up come because bats a queen's dear in\n",
      "6 smiling i drive ' at alice ix that made herself no if on an pleases were duchess of last\n",
      "7 you sea you lost lessen quite 'but at the duchess as on as a shook\n",
      "8 muchness a dodo spite 'it deep ' he boy for\n",
      "9 any all and which globe that i the 'advance baked it can't\n",
      "10 went had once the i'm lizard's i wrote 'there poor round 'thank such it looked heard\n",
      "11 with some house like in the little better' will 'he's 'don't went for she found\n",
      "12 a like to our dears ever alone i'd a hurry him\n",
      "13 first nothing at the 'of return or memory to\n",
      "14 oh made that agony or across round i'm could accounts a shelves silent i'm again\n",
      "15 'i and you can party in any other of the its\n",
      "16 a beheaded your are general small oh be dinah what end she think\n",
      "17 without a dish down and the 'if hare the doesn't have is a door but its by\n",
      "18 zigzag called to with to might ' said the one and day\n",
      "19 well in your little down trying ' the row as really\n",
      "20 'the particular the queen been 'dear i eggs her great beg all a turned\n",
      "21 beginning up the duchess ' alice provide they custody\n",
      "22 about how ' said\n",
      "23 cats 'they fellow what the don't past like 0 wonderland pence to i've and to frowning that finish one\n",
      "24 it ten ' a see like it there updated in there\n",
      "25 set 'poor rate you eyes it you 'hm '\n",
      "26 next terror spread went much but with 'no 'poison no\n",
      "27 out the middle was so her in scroll quite held new at this glass no read 'and\n",
      "28 be have get it no have queen nine i dear bathing like one this is folding\n",
      "29 i what which this talk knocking did herself you or ought and alone added\n"
     ]
    }
   ],
   "source": [
    "for i in range(30):\n",
    "    in_words = \"<bos>\"\n",
    "    for _ in range(maxlen):\n",
    "        in_sequence = sequence.pad_sequences(tokenizer.texts_to_sequences([in_words]), maxlen=maxlen)\n",
    "        wordid = sample(model.predict(in_sequence)[0])\n",
    "        for k, v in tokenizer.word_index.items():\n",
    "            if v == wordid:\n",
    "                in_words += \" \" + k\n",
    "                break\n",
    "        if k == \"eos\":\n",
    "            break\n",
    "\n",
    "    print(i, in_words.replace(\" eos\", \"\").replace(\"<bos> \", \"\"))"
   ]
  },
  {
   "cell_type": "code",
   "execution_count": 11,
   "metadata": {
    "collapsed": false
   },
   "outputs": [
    {
     "name": "stdout",
     "output_type": "stream",
     "text": [
      "0 alice 'ah mean on procession she was were hard \n",
      "1 alice sort to the stalk and soup you got to off thunder the were mustard \n",
      "2 alice with she her tried said if very gryphon and you \n",
      "3 alice ' the frightened lobsters them its night it first 'how ' again the came and \n",
      "4 alice as got was up to felt ' said the top \n",
      "5 alice again to that said that and there for did her \n",
      "6 alice frightened in the two was copy but to alice 501 it not \n",
      "7 alice exclaimed uncomfortable think looked the found ' \n",
      "8 alice their cause of one and neck been went \n",
      "9 alice watch i long i was uncommonly that they'd make the three hare to alice \n",
      "10 alice paw was lastly ' i 'i put at sort wig very what it \n",
      "11 alice chain stand identification begin out on very little good reason the had of be \n",
      "12 alice down again say to it copyright to which near it the hatter of \n",
      "13 alice ' up that a ought \n",
      "14 alice to return looked ' \n",
      "15 alice am wood it you ii \n",
      "16 alice trumpet believe to it why she ' ' \n",
      "17 alice quite ran no moment in to 000 had was air take miles man could a as perfectly org \n",
      "18 alice dry took tail your what you different and such ' \n",
      "19 alice hardly offended alas ' i kitchen i it and about to gloves in the \n",
      "20 alice that began but again she two at she timidly it insolence one small \n",
      "21 alice 'now all at the paris ' written tart the dormouse \n",
      "22 alice witness larger her say was 'it's ' employee alice 'stuff she for \n",
      "23 alice to crying beheaded as he considering at the questions with listening it the used \n",
      "24 alice hall under the will soo even by shoulders a sugar of do him \n",
      "25 alice he they've her she tipped for who hardly legs of she \n",
      "26 alice made how downward left remarks i know were sight with she the eyes \n",
      "27 alice it's comfortably there was was close of no sprawling rock if back when \n",
      "28 alice public didn't a see and moving little should history upon \n",
      "29 alice tray to now hear once or there ' the rabbit \n"
     ]
    }
   ],
   "source": [
    "for i in range(30):\n",
    "    in_words = \"<bos> alice\"\n",
    "    for _ in range(maxlen):\n",
    "        in_sequence = sequence.pad_sequences(tokenizer.texts_to_sequences([in_words]), maxlen=maxlen)\n",
    "        wordid = sample(model.predict(in_sequence)[0])\n",
    "        for k, v in tokenizer.word_index.items():\n",
    "            if v == wordid:\n",
    "                in_words += \" \" + k\n",
    "                break\n",
    "        if k == \"eos\":\n",
    "            break\n",
    "\n",
    "\n",
    "    print(i, in_words.replace(\"eos\", \"\").replace(\"<bos> \", \"\"))"
   ]
  },
  {
   "cell_type": "markdown",
   "metadata": {},
   "source": [
    "## maximum"
   ]
  },
  {
   "cell_type": "code",
   "execution_count": 12,
   "metadata": {
    "collapsed": false
   },
   "outputs": [
    {
     "name": "stdout",
     "output_type": "stream",
     "text": [
      " the little little little little little little little \n"
     ]
    }
   ],
   "source": [
    "in_words = \"<bos> \"\n",
    "for _ in range(maxlen):\n",
    "    in_sequence = sequence.pad_sequences(tokenizer.texts_to_sequences([in_words]), maxlen=maxlen)\n",
    "    wordid = np.argmax(model.predict(in_sequence)[0])\n",
    "\n",
    "    for k, v in tokenizer.word_index.items():\n",
    "        if v == wordid:\n",
    "            in_words += \" \" + k\n",
    "            break\n",
    "    if k == \"eos\":\n",
    "        break\n",
    "\n",
    "print(in_words.replace(\"eos\", \"\").replace(\"<bos> \", \"\"))"
   ]
  },
  {
   "cell_type": "code",
   "execution_count": 13,
   "metadata": {
    "collapsed": false
   },
   "outputs": [
    {
     "name": "stdout",
     "output_type": "stream",
     "text": [
      "alice ' said the little little little little \n"
     ]
    }
   ],
   "source": [
    "in_words = \"<bos> alice\"\n",
    "for _ in range(maxlen):\n",
    "    in_sequence = sequence.pad_sequences(tokenizer.texts_to_sequences([in_words]), maxlen=maxlen)\n",
    "    wordid = np.argmax(model.predict(in_sequence)[0])\n",
    "    for k, v in tokenizer.word_index.items():\n",
    "        if v == wordid:\n",
    "            in_words += \" \" + k\n",
    "            break\n",
    "    if k == \"eos\":\n",
    "        break\n",
    "\n",
    "\n",
    "print(in_words.replace(\"eos\", \"\").replace(\"<bos> \", \"\"))"
   ]
  },
  {
   "cell_type": "code",
   "execution_count": null,
   "metadata": {
    "collapsed": true
   },
   "outputs": [],
   "source": []
  }
 ],
 "metadata": {
  "anaconda-cloud": {},
  "kernelspec": {
   "display_name": "Python [Root]",
   "language": "python",
   "name": "Python [Root]"
  },
  "language_info": {
   "codemirror_mode": {
    "name": "ipython",
    "version": 3
   },
   "file_extension": ".py",
   "mimetype": "text/x-python",
   "name": "python",
   "nbconvert_exporter": "python",
   "pygments_lexer": "ipython3",
   "version": "3.5.2"
  },
  "toc": {
   "toc_cell": false,
   "toc_number_sections": true,
   "toc_threshold": 6,
   "toc_window_display": false
  }
 },
 "nbformat": 4,
 "nbformat_minor": 0
}
